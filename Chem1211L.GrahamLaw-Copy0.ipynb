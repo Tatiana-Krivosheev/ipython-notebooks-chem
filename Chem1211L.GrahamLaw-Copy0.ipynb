{
 "metadata": {
  "name": "",
  "signature": "sha256:1c856b34b493662cfca1f45e87be32a2df96a035bdc574e56f00615801f49844"
 },
 "nbformat": 3,
 "nbformat_minor": 0,
 "worksheets": [
  {
   "cells": [
    {
     "cell_type": "heading",
     "level": 1,
     "metadata": {},
     "source": [
      "Graham\u2019s Law Data and Report Sheet"
     ]
    },
    {
     "cell_type": "raw",
     "metadata": {},
     "source": [
      "\tDistance HCl traveled\t_______________\n",
      "\n",
      "\n"
     ]
    },
    {
     "cell_type": "raw",
     "metadata": {},
     "source": [
      " Distance NH3 traveled\t_______________\n"
     ]
    },
    {
     "cell_type": "raw",
     "metadata": {},
     "source": [
      "\n",
      "\t\n",
      "\n",
      "Show the calculation that validates Graham\u2019s Law.\n",
      "\n"
     ]
    },
    {
     "cell_type": "raw",
     "metadata": {},
     "source": [
      "\n",
      "\n",
      "Make a statement as to how well your experiment validates Graham\u2019s Law.\n"
     ]
    },
    {
     "cell_type": "raw",
     "metadata": {},
     "source": [
      "Briefly state what changes you would have observed in your experiment if:\n",
      "\n",
      "a.  the diffusion apparatus was twice as long.\n",
      "\n",
      "\n",
      "\n",
      "\n",
      "b.  the diffusion apparatus was in the vertical position.\n",
      "\n",
      "\n",
      "\n",
      "\n",
      "c.  the room temperature was 5-10 degrees lower.\n",
      "\n"
     ]
    },
    {
     "cell_type": "raw",
     "metadata": {},
     "source": [
      "Samples of X and Y are introduced into opposite ends of a glass tube that is 0.750 meters in length.  When the gases meet the substance XY forms, which adheres to the glass tube.  If MMX = 34.0 g/mole and MMY = 67.9 g/mole, How far from the X side of the apparatus would you look for the complex to form?  Show your work clearly for full credit.\n",
      "\n",
      "\n"
     ]
    },
    {
     "cell_type": "code",
     "collapsed": false,
     "input": [],
     "language": "python",
     "metadata": {},
     "outputs": []
    }
   ],
   "metadata": {}
  }
 ]
}