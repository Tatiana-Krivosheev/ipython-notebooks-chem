{
 "metadata": {
  "name": "",
  "signature": "sha256:3f1ffff3cc2177ea54808350d9f673d183d0a01d905a5339411f9b73fb25f1af"
 },
 "nbformat": 3,
 "nbformat_minor": 0,
 "worksheets": [
  {
   "cells": [
    {
     "cell_type": "heading",
     "level": 1,
     "metadata": {},
     "source": [
      "Solution Calorimetry Data and Report Sheet"
     ]
    },
    {
     "cell_type": "heading",
     "level": 3,
     "metadata": {},
     "source": [
      "Calibration of Thermometers\t\t\t\t\tWk 1\t\tWk 2\n",
      "\n",
      "\n"
     ]
    },
    {
     "cell_type": "raw",
     "metadata": {},
     "source": [
      "Temperature of Thermometer #1 in ice water\t\t\t______\t\t______\n",
      "\n",
      "Temperature of Thermometer #2 in ice water\t\t\t______\t\t______\n",
      "\n",
      "Correction factor applied to Thermometer #2\n",
      "to make readings equal to Thermometer #1 (remember sign)\t______\t\t______\n"
     ]
    },
    {
     "cell_type": "heading",
     "level": 2,
     "metadata": {},
     "source": [
      "\n",
      "\t\n",
      "\n",
      "Heat Capacity of Calorimeter\n",
      "\n"
     ]
    },
    {
     "cell_type": "raw",
     "metadata": {},
     "source": [
      "\n",
      "\n",
      "Mass of Empty Cal (with lid, etc.)\n",
      "\n",
      "Temp of Cal + Room Temp H2O\n",
      "\n",
      "Mass of Cal + Room Temp H2O \n",
      "\n",
      "Temp of Hot H2O (corrected value)\n",
      "\n",
      "Mass of Room Temp H2O\n",
      "\n",
      "Equilibrium Temp From Graph\n",
      "\n",
      "Mass of Cal + Room Temp H2O + Hot H2O \n",
      "\n",
      "\uf044T of Cal + Room Temp H2O\n",
      "\n",
      "Mass of Hot H2O\n",
      "\n",
      "\uf044T of Hot H2O \n",
      "\n",
      "\n"
     ]
    },
    {
     "cell_type": "raw",
     "metadata": {},
     "source": [
      "Heat Lost by Hot H2O\n",
      "\n",
      "qhot = swater \u00b7 mhot \u00b7 \uf044Thot\n",
      "\n"
     ]
    },
    {
     "cell_type": "raw",
     "metadata": {},
     "source": [
      "Heat Gained by Room Temp H2O\n",
      "\n",
      "qrt = swater \u00b7 mrt \u00b7 \uf044Trt\n",
      "\n",
      "rt = room temperature\n",
      "\n",
      "\n",
      "Calculation:\n"
     ]
    },
    {
     "cell_type": "raw",
     "metadata": {},
     "source": [
      "Heat Gained by Cal\n",
      "\n",
      "qcal = qhot - qrt\n",
      "\n",
      "\n",
      "Calculation:"
     ]
    },
    {
     "cell_type": "raw",
     "metadata": {},
     "source": [
      "Heat Capacity of Cal\n",
      "\n",
      "\n",
      "\n",
      "Calculation:"
     ]
    },
    {
     "cell_type": "heading",
     "level": 3,
     "metadata": {},
     "source": [
      "Heat of Neutralization"
     ]
    },
    {
     "cell_type": "raw",
     "metadata": {},
     "source": [
      "Heat of Neutralization\n",
      "Reactants (Base + Acid)\n",
      "NaOH + HCl \n",
      "NaOH + HC2H3O2 \n",
      "NH3 + HC2H3O2\n",
      "Mass of Empty Cal\n",
      "\n",
      "\n",
      "\n",
      "Temp of Cal + Base\n",
      "\n",
      "\n",
      "\n",
      "Mass of Cal + Base\n",
      "\n",
      "\n",
      "\n",
      "Mass of Base\n",
      "\n",
      "\n",
      "\n",
      "Equilibrium Temp After Adding Acid\n",
      "\n",
      "\n",
      "\n",
      "\uf044T After Adding Acid\n",
      "\n",
      "\n",
      "\n",
      "Mass of Cal + Base + Acid\n",
      "\n",
      "\n",
      "\n",
      "Mass of Acid\n",
      "\n",
      "\n",
      "\n",
      "\t\t\t\t\tPlace the result of each reaction in the upper boxes\u2026\n",
      "Heat Gained by Solution\n",
      "\n",
      "qsoln = swater\u00b7msoln\u00b7\uf044Tsoln\n",
      "                   \n",
      "\n",
      "\n",
      "\n",
      "Sample Calculation:  \n",
      "\n",
      "\n",
      "Heat Gained by Calorimeter\n",
      "\n",
      "qcal = Ccal\u00b7\uf044Tcal\n",
      "                      \n",
      "\n",
      "\n",
      "\n",
      "Sample Calculation:  \n",
      "\n",
      "Total Joules Released\n",
      "\n",
      "qtotal = qsoln + qcal\n",
      "\n",
      "\n",
      "\n",
      "\n",
      "\n",
      "Sample Calculation:  \n",
      "\n",
      "\n",
      "\n",
      "Balanced Chemical Reactions\n",
      "\n",
      "\n",
      "Rxn 1\n",
      "\n",
      "Rxn 2\n",
      "\n",
      "Rxn 3\n",
      "\n",
      "Moles of Acid Used\n",
      "\n",
      "Moles Acid = Macid\u00b7Volacid\n",
      "\n",
      "\n",
      "\n",
      "\n",
      "\n",
      "Sample Calculation:  \n",
      "\n",
      "\n",
      "Moles of H2O\n",
      "\n",
      "(relate to stoichiometry of chemical reaction)\n",
      "\n",
      "\n",
      "\n",
      "\n",
      "\n",
      "Sample Calculation:  \n",
      "\n",
      "\n",
      "Joules Released per Mole H2O \n",
      "\n",
      "\n",
      "\n",
      "\n",
      "\n",
      "\n",
      "Sample Calculation:  \n",
      "\n",
      "\n",
      "\n",
      "\n",
      "\n",
      "\n",
      "\n",
      "\n"
     ]
    },
    {
     "cell_type": "heading",
     "level": 3,
     "metadata": {},
     "source": [
      "Hess\u2019 Law"
     ]
    },
    {
     "cell_type": "raw",
     "metadata": {},
     "source": [
      "Write the total ionic equations for the three reactions above and manipulate them and their enthalpy changes to calculate the enthalpy change for the reaction given below. \n",
      "\n",
      "\n",
      "______________________________________________\t\t______________KJ/mol\n",
      "\n",
      "______________________________________________\t\t______________KJ/mol\n",
      "\n",
      "______________________________________________\t\t______________KJ/mol\n",
      "\n",
      "\tH+(aq) + Cl\u00af (aq)  +  NH3 (aq)   \uf0e0 NH4+(aq) +  Cl\u00af (aq) \t\t\t______________KJ/mol\n"
     ]
    },
    {
     "cell_type": "heading",
     "level": 3,
     "metadata": {},
     "source": [
      "Questions:"
     ]
    },
    {
     "cell_type": "raw",
     "metadata": {},
     "source": [
      "1.) What do you think is the largest source of error in the experiment?  Explain what effect this error will have on your results.  How could it be prevented?\n"
     ]
    },
    {
     "cell_type": "raw",
     "metadata": {},
     "source": [
      "2.) Explain the difference between heat capacity and specific heat."
     ]
    },
    {
     "cell_type": "raw",
     "metadata": {},
     "source": [
      ".) Calculate the Enthalpy of Reaction for the reaction below using the Enthalpies of Formation found in your textbook. \n",
      "\n",
      "\t\t\t H+(aq) + Cl\u00af (aq)  +  NH3 (aq)   \uf0e0 NH4+(aq) +  Cl\u00af (aq)\n",
      "\n",
      "     Explain why this value might differ from the one you calculated in the experiment.\n"
     ]
    },
    {
     "cell_type": "code",
     "collapsed": false,
     "input": [],
     "language": "python",
     "metadata": {},
     "outputs": []
    }
   ],
   "metadata": {}
  }
 ]
}