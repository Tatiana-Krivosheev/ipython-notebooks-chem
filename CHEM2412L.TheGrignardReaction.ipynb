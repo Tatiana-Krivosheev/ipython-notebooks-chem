{
 "metadata": {
  "name": "",
  "signature": "sha256:de5b8e906eba174ce77f406ea6ab4d376760c761639cee4da51e30957e017b75"
 },
 "nbformat": 3,
 "nbformat_minor": 0,
 "worksheets": [
  {
   "cells": [
    {
     "cell_type": "heading",
     "level": 1,
     "metadata": {},
     "source": [
      "Chemistry 2412L\t\t\n",
      "\t"
     ]
    },
    {
     "cell_type": "raw",
     "metadata": {},
     "source": [
      "Pre-Lab Exercises\t____/5\n",
      "Dr. Sheppard\t\tReport\t____/45\n",
      "\t\t            Total\t____/50\n"
     ]
    },
    {
     "cell_type": "heading",
     "level": 2,
     "metadata": {},
     "source": [
      "Name: ____________________________________________\t\n",
      "\n",
      "Date: _______________________\n"
     ]
    },
    {
     "cell_type": "heading",
     "level": 2,
     "metadata": {},
     "source": [
      "The Grignard Reaction"
     ]
    },
    {
     "cell_type": "heading",
     "level": 3,
     "metadata": {},
     "source": [
      "\n",
      "\n",
      "\n",
      "\n",
      "\n",
      "Pre-lab Questions"
     ]
    },
    {
     "cell_type": "raw",
     "metadata": {},
     "source": [
      "\tWhich reacts more readily to form Grignard reagents?\n",
      "\tAlkyl chlorides\n",
      "\tAlkyl bromides \n",
      "\n",
      "\tA Bunsen burner is an acceptable heat source during this reaction.\n",
      "\tTrue\n",
      "\tFalse \n",
      "    \n",
      "    What is a common solvent for Grignard reactions?\n",
      "\n",
      "\tDraw the reaction (including structures) of butylmagnesium bromide with water.\n",
      "\n",
      "\tDraw the reaction (including structures) of phenylmagnesium bromide with acetone.\n",
      "\n"
     ]
    },
    {
     "cell_type": "raw",
     "metadata": {},
     "source": [
      "fgfhgf"
     ]
    },
    {
     "cell_type": "heading",
     "level": 3,
     "metadata": {},
     "source": [
      " Procedure"
     ]
    },
    {
     "cell_type": "raw",
     "metadata": {},
     "source": [
      "\n",
      "Week 1:\n",
      "\n",
      "Be sure that all of the glassware to be used in this experiment (including graduated cylinders) are clean and dry. Be sure to lightly grease all ground glass joints. Clamp a 100-mL single neck round bottom flask fitted with a Claisen connecting tube to a ring stand. Leave room for a water or ice bath under the flask. Do not support the flask on a ring. Place a reflux condenser in the side neck of the Claisen adaptor, and place a separatory funnel in the vertical neck. Fit a drying tube containing calcium chloride to the top of the condenser. Grind 2 g of magnesium turnings in a mortar to provide a fresh surface and place it in the round bottom flask with 15 mL of anhydrous diethyl ether. Reattach the flask to the connecting tube. Use the separatory funnel to add 9 mL of bromobenzene to the flask. Warm the flask gently with warm water or in the palm of your hand until the reaction starts, as indicated by bubbling and turbidity. (If your reaction does not start after a few minutes, it may help to grind the Mg against the flask with a glass stirring rod, or to use a starter solution. Consult your instructor.) As soon as the reaction has started, begin the flow of water through the condenser. Add 25 mL anhydrous ether to the flask through the separatory funnel. Continue to reflux the solution for 20 minutes, swirling the flask occasionally and warming the flask as necessary to keep the reaction going. If the reaction is too vigorous cool the flask in an ice bath, but do not overcool as this can stop the reaction.\n",
      "\n",
      "Mix 5 g methyl benzoate with 15 mL of anhydrous ether and place it in the separatory funnel. Once the formation of the Grignard reagent is complete, cool the flask and its contents briefly in an ice bath. Add the ester solution dropwise while swirling the flask to ensure mixing. If necessary, use the ice bath or adjust the rate of addition of the ester to control the reaction. When the addition is complete, label and store the flask as directed by your instructor.\n",
      "\n",
      "Week 2:\n",
      "\n",
      "Pour your reaction mixture (including all solid) from last week into a 250-mL Erlenmeyer flask containing 50 mL of 10% sulfuric acid and approximately 25 g of ice. Rinse the round bottom flask with a small portion of diethyl ether, followed by a small portion of 10% sulfuric acid, and add these rinses to the Erlenmeyer flask. Swirl the mixture well to promote hydrolysis. Pour the solution in a separatory funnel, leaving behind any remaining Mg and ice. Use the separatory funnel to separate the ether layer, then wash the ether layer with 10% sulfuric acid, followed by a second washing with saturated sodium chloride solution. Put the ether layer in a beaker and let it dry over magnesium sulfate. Remove the drying agent, add 15 mL of petroleum ether to the layer, and evaporate the solution slowly on a steam bath until crystallization begins. Cool the mixture on an ice bath to complete crystallization. Collect, dry, and weigh the product. Determine the melting point and IR spectrum for your product. Dispose of all waste from this experiment in the appropriate waste containers as directed by your instructor.\n",
      "\t\n",
      "\n",
      "\n",
      "\n"
     ]
    },
    {
     "cell_type": "heading",
     "level": 3,
     "metadata": {},
     "source": [
      "Report Sheet"
     ]
    },
    {
     "cell_type": "heading",
     "level": 4,
     "metadata": {},
     "source": [
      "\n",
      "I. Data and Observations"
     ]
    },
    {
     "cell_type": "raw",
     "metadata": {},
     "source": [
      "Preparation of Phenylmagnesium bromide \n",
      "\n",
      "Volume of bromobenzene _____56576________________\n",
      "\n",
      "Mass of magnesium _________yuyui____________\n",
      "\n",
      "Observations (color changes, product appearance, etc.):\n",
      "\n",
      "\n",
      "\n",
      "Synthesis of Triphenylmethanol\n",
      "\n",
      "Mass of methyl benzoate ________6666_____________\n",
      "\n",
      "Mass of triphenylmethanol _____________________\n",
      "\n",
      "Melting point of triphenylmethanol _____________________\n",
      "\n",
      "Observations (color changes, product appearance, etc.):\n"
     ]
    },
    {
     "cell_type": "heading",
     "level": 4,
     "metadata": {},
     "source": [
      "II. Reaction"
     ]
    },
    {
     "cell_type": "raw",
     "metadata": {},
     "source": [
      "(Draw the reaction used in this experiment. You do not need to show a mechanism.)"
     ]
    },
    {
     "cell_type": "heading",
     "level": 4,
     "metadata": {},
     "source": [
      "III. Data Analysis"
     ]
    },
    {
     "cell_type": "raw",
     "metadata": {},
     "source": [
      "\n",
      "\tCalculate the theoretical yield of triphenylmethanol. Clearly show your work.\n",
      "\n",
      "\tCalculate the percent yield of triphenylmethanol. Clearly show your work.\n",
      "\n",
      "\tCompare your IR of triphenylmethanol to a literature spectrum. What conclusions can you draw about your product? Attach your IR spectrum and the literature spectrum to this report.\n",
      "\n",
      "\tWhat is the literature melting point of triphenylmethanol? How did your melting point compare to the literature melting point? What conclusions can you make about the purity of your product based on your melting point data?\n",
      "\n",
      "IV. Questions\n",
      "\n",
      "\tConsider the reaction of bromobenzene with magnesium to give phenylmagnesium bromide and its subsequent reaction with benzophenone to give triphenylmethanol. What weight of triphenylmethanol could be prepared if 3.14 g of bromobenzene and 3.80 g of benzophenone are used? Clearly show your work. \n",
      "\n",
      "\tBenzene and biphenyl are two compounds that are often produced as unwanted side-products during Grignard reactions using phenylmagnesium bromide. Write reactions that show the formation of each of these side-products.\n",
      "\n",
      "\tShow one method (using the Grignard reaction) that could be used to prepare each of the following compounds.\n",
      "\n",
      "\n",
      "\n",
      "(a) \n",
      "\n",
      "\n",
      "\n",
      "\n",
      "(b)\n",
      "\n",
      "\n",
      "\n",
      "\n",
      "(c)\n",
      "\n",
      "\n",
      "\n"
     ]
    },
    {
     "cell_type": "code",
     "collapsed": false,
     "input": [],
     "language": "python",
     "metadata": {},
     "outputs": []
    }
   ],
   "metadata": {}
  }
 ]
}