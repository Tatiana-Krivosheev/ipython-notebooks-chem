{
 "metadata": {
  "name": "",
  "signature": "sha256:d113a35abb133bab94b4cdc33997637517bdd38870c961ee7fe62458192ff874"
 },
 "nbformat": 3,
 "nbformat_minor": 0,
 "worksheets": [
  {
   "cells": [
    {
     "cell_type": "heading",
     "level": 1,
     "metadata": {},
     "source": [
      "Ammonia Determination"
     ]
    },
    {
     "cell_type": "heading",
     "level": 3,
     "metadata": {},
     "source": [
      "List the data here"
     ]
    },
    {
     "cell_type": "raw",
     "metadata": {},
     "source": [
      "Trial #\n",
      "Weight of Compound\n",
      "Volume of HCl Solution\n",
      "% NH3\n",
      "1\n",
      "\n",
      "\n",
      "\n",
      "2\n",
      "\n",
      "\n",
      "\n",
      "Average Percentage of Ammonia in the Compound  \u00eb\n",
      "\n",
      "Percentage Error  \u00eb\n",
      "\n",
      "Average Molarity of HCl from Experiment  #3\n",
      "\n",
      "\n",
      "\n"
     ]
    },
    {
     "cell_type": "raw",
     "metadata": {},
     "source": [
      " List the complete, balanced overall equation for the reaction occurring here:\n"
     ]
    },
    {
     "cell_type": "raw",
     "metadata": {},
     "source": [
      "Show a sample calculation for the percentage of NH3 in the compound."
     ]
    },
    {
     "cell_type": "raw",
     "metadata": {},
     "source": [
      "How does your average value compare with the ammonia theoretical values of the possible compounds?\n",
      "\n",
      "\n",
      "\n"
     ]
    },
    {
     "cell_type": "raw",
     "metadata": {},
     "source": [
      "Why do we take great care to make sure cobalt sample and especially the NaOH do not go down the distillation flask side arm?\n",
      "\n",
      "\n"
     ]
    },
    {
     "cell_type": "raw",
     "metadata": {},
     "source": [
      "Why does one rinse the condenser tube into the Erlenmeyer flask at the end of the distillation?  Should the outside be rinsed as well?"
     ]
    },
    {
     "cell_type": "raw",
     "metadata": {},
     "source": [
      "\n",
      "Explain, using your knowledge of the gas laws, what would happen if you removed the burner before you removed the rubber stopper from the distillation apparatus."
     ]
    },
    {
     "cell_type": "code",
     "collapsed": false,
     "input": [],
     "language": "python",
     "metadata": {},
     "outputs": []
    }
   ],
   "metadata": {}
  }
 ]
}